{
 "cells": [
  {
   "cell_type": "markdown",
   "id": "20a80be4",
   "metadata": {},
   "source": [
    "$ Q1: $ Create a list of the first 20 positive integers.\n"
   ]
  },
  {
   "cell_type": "code",
   "execution_count": 28,
   "id": "7c6c66dc",
   "metadata": {},
   "outputs": [
    {
     "name": "stdout",
     "output_type": "stream",
     "text": [
      "[1, 2, 3, 4, 5, 6, 7, 8, 9, 10, 11, 12, 13, 14, 15, 16, 17, 18, 19, 20]\n"
     ]
    }
   ],
   "source": [
    "lst = [i for i in range(1,21)]\n",
    "print(lst)"
   ]
  },
  {
   "cell_type": "markdown",
   "id": "125937ff",
   "metadata": {},
   "source": [
    "$ Q2: $ Print the first, middle, and last elements of the list created in Q1."
   ]
  },
  {
   "cell_type": "code",
   "execution_count": 20,
   "id": "c73ec8d7",
   "metadata": {},
   "outputs": [
    {
     "name": "stdout",
     "output_type": "stream",
     "text": [
      "1 11 20\n"
     ]
    }
   ],
   "source": [
    "print(lst[0], lst[len(lst)//2], lst[-1])"
   ]
  },
  {
   "cell_type": "markdown",
   "id": "42cb4d44",
   "metadata": {},
   "source": [
    "$ Q3: $ Print the first five elements, the last five elements, and the elements from index 5 to 15 of the list created in Q1."
   ]
  },
  {
   "cell_type": "code",
   "execution_count": 22,
   "id": "d51f98ab",
   "metadata": {},
   "outputs": [
    {
     "name": "stdout",
     "output_type": "stream",
     "text": [
      "[1, 2, 3, 4, 5]\n",
      "[16, 17, 18, 19, 20]\n",
      "[6, 7, 8, 9, 10, 11, 12, 13, 14, 15, 16]\n"
     ]
    }
   ],
   "source": [
    "lst1 = [lst[i] for i in range(5)]\n",
    "print(lst1)\n",
    "lst2 = [lst[i] for i in range(-5,0,1)]\n",
    "print(lst2)\n",
    "lst3 = [lst[i] for i in range(5,16,1)]\n",
    "print(lst3)"
   ]
  },
  {
   "cell_type": "markdown",
   "id": "e72d3961",
   "metadata": {},
   "source": [
    "$ Q4: $ Create a new list containing the squares of the first 10 positive integers using a list comprehension. Print the new list."
   ]
  },
  {
   "cell_type": "code",
   "execution_count": 26,
   "id": "ee2e7e58",
   "metadata": {},
   "outputs": [
    {
     "name": "stdout",
     "output_type": "stream",
     "text": [
      "[1, 4, 9, 16, 25, 36, 49, 64, 81, 100]\n"
     ]
    }
   ],
   "source": [
    "squared_lst = [i**2 for i in range(1,11)]\n",
    "print(squared_lst)"
   ]
  },
  {
   "cell_type": "markdown",
   "id": "03c67bf7",
   "metadata": {},
   "source": [
    "$ Q5: $ Create a new list containing only the even numbers from the list created in Q1 using a list comprehension. Print the new list."
   ]
  },
  {
   "cell_type": "code",
   "execution_count": 29,
   "id": "f8affec6",
   "metadata": {},
   "outputs": [
    {
     "name": "stdout",
     "output_type": "stream",
     "text": [
      "[2, 4, 6, 8, 10, 12, 14, 16, 18, 20]\n"
     ]
    }
   ],
   "source": [
    "even_lst = [num for num in lst if num%2==0]\n",
    "print(even_lst)"
   ]
  },
  {
   "cell_type": "markdown",
   "id": "40583de8",
   "metadata": {},
   "source": [
    "$ Q6: $ \n",
    "Create a list of random numbers and sort it in ascending and descending order. Remove the duplicates from the list and print the modified list."
   ]
  },
  {
   "cell_type": "code",
   "execution_count": 10,
   "id": "54f8dfdf",
   "metadata": {},
   "outputs": [
    {
     "name": "stdout",
     "output_type": "stream",
     "text": [
      "[1, 6, 7, 6, 2, 1]\n",
      "[1, 1, 2, 6, 6, 7]\n",
      "[7, 6, 6, 2, 1, 1]\n"
     ]
    }
   ],
   "source": [
    "import random as rd \n",
    "random_list = [rd.randint(0,10) for _ in range(6)]\n",
    "print(random_list)\n",
    "random_list.sort() # ascending order\n",
    "print(random_list) \n",
    "random_list.sort(reverse=True)\n",
    "print(random_list)"
   ]
  },
  {
   "cell_type": "markdown",
   "id": "7136ade8",
   "metadata": {},
   "source": [
    "$ Q7: $ Create a nested list representing a 3x3 matrix and print the matrix. Access and print the element at the second row and third column."
   ]
  },
  {
   "cell_type": "code",
   "execution_count": 12,
   "id": "bbd5b828",
   "metadata": {},
   "outputs": [
    {
     "name": "stdout",
     "output_type": "stream",
     "text": [
      "6\n"
     ]
    }
   ],
   "source": [
    "matrix = [\n",
    "    [1,2,3],\n",
    "    [4,5,6],\n",
    "    [7,8,9]\n",
    "]\n",
    "print(matrix[1][2])"
   ]
  },
  {
   "cell_type": "markdown",
   "id": "9d656144",
   "metadata": {},
   "source": [
    "$ Q8: $ Create a list of dictionaries where each dictionary represents a student with keys 'name' and 'score'. Sort the list of dictionaries by the 'score' in descending order and print the sorted list."
   ]
  },
  {
   "cell_type": "code",
   "execution_count": 15,
   "id": "62531ce0",
   "metadata": {},
   "outputs": [
    {
     "name": "stdout",
     "output_type": "stream",
     "text": [
      "[{'name': 'Shivam', 'score': 8.8}, {'name': 'Adarsh', 'score': 8.4}, {'name': 'aniket', 'score': 9.0}]\n",
      "[{'name': 'aniket', 'score': 9.0}, {'name': 'Shivam', 'score': 8.8}, {'name': 'Adarsh', 'score': 8.4}]\n"
     ]
    }
   ],
   "source": [
    "lst = [\n",
    "    {'name': 'Shivam', 'score': 8.8},\n",
    "    {'name': 'Adarsh', 'score': 8.4},\n",
    "    {'name': 'aniket', 'score': 9.0}\n",
    "]\n",
    "print(lst)\n",
    "\n",
    "lst.sort(key=lambda dic: dic['score'], reverse=True)\n",
    "print(lst)"
   ]
  },
  {
   "cell_type": "markdown",
   "id": "02752585",
   "metadata": {},
   "source": [
    "$ Q9: $ Write a function that takes a matrix (nested list) as input and returns its transpose. Print the original and transposed matrices.\n"
   ]
  },
  {
   "cell_type": "code",
   "execution_count": 15,
   "id": "365afa9a",
   "metadata": {},
   "outputs": [
    {
     "name": "stdout",
     "output_type": "stream",
     "text": [
      "matrix = [[1, 2, 3], [4, 5, 6], [7, 8, 9], [10, 11, 12]]\n",
      "transposed matrix = [[1, 4, 7, 10], [2, 5, 8, 11], [3, 6, 9, 12]]\n"
     ]
    }
   ],
   "source": [
    "# method 1 using nested list\n",
    "def transpose_matrix(matrix):\n",
    "    tranposed_matrix = []\n",
    "    for i in range(len(matrix[0])):\n",
    "        lt = []\n",
    "        for j in range(len(matrix)):\n",
    "            lt.append(matrix[j][i])\n",
    "        tranposed_matrix.append(lt)\n",
    "    return tranposed_matrix        \n",
    "\n",
    "matrix = [\n",
    "    [1,2,3],\n",
    "    [4,5,6],\n",
    "    [7,8,9],\n",
    "    [10,11,12]\n",
    "]\n",
    "print(\"matrix =\",matrix)\n",
    "print(\"transposed matrix =\",transpose_matrix(matrix))"
   ]
  },
  {
   "cell_type": "code",
   "execution_count": 17,
   "id": "23739327",
   "metadata": {},
   "outputs": [
    {
     "name": "stdout",
     "output_type": "stream",
     "text": [
      "matrix = [[1, 2, 3], [4, 5, 6], [7, 8, 9], [10, 11, 12]]\n",
      "transposed matrix = [[1, 4, 7, 10], [2, 5, 8, 11], [3, 6, 9, 12]]\n"
     ]
    }
   ],
   "source": [
    "# method 2 using nested list comprehension\n",
    "def transpose_matrix(matrix):\n",
    "    return  [[matrix[j][i] for j in range(len(matrix))] for i in range(len(matrix[0]))]\n",
    "\n",
    "matrix = [\n",
    "    [1,2,3],\n",
    "    [4,5,6],\n",
    "    [7,8,9],\n",
    "    [10,11,12]\n",
    "]\n",
    "print(\"matrix =\",matrix)\n",
    "print(\"transposed matrix =\",transpose_matrix(matrix))"
   ]
  },
  {
   "cell_type": "markdown",
   "id": "3d27af44",
   "metadata": {},
   "source": [
    "$ Q10: $ \n",
    "Write a function that takes a nested list and flattens it into a single list. Print the original and flattened lists."
   ]
  },
  {
   "cell_type": "code",
   "execution_count": 9,
   "id": "3d5d5fd8",
   "metadata": {},
   "outputs": [
    {
     "name": "stdout",
     "output_type": "stream",
     "text": [
      "list = [[1, 2, 3], [4, 5, 6], [7, 8, 9], [10, 11, 12]]\n",
      "flattened list = [1, 2, 3, 4, 5, 6, 7, 8, 9, 10, 11, 12]\n"
     ]
    }
   ],
   "source": [
    "def flatten_list(lst):\n",
    "    return [item for row in lst for item in row]\n",
    "\n",
    "lst = [\n",
    "    [1,2,3],\n",
    "    [4,5,6],\n",
    "    [7,8,9],\n",
    "    [10,11,12]\n",
    "]\n",
    "print(\"list =\",lst)\n",
    "print(\"flattened list =\",flatten_list(lst))"
   ]
  },
  {
   "cell_type": "markdown",
   "id": "f58fae02",
   "metadata": {},
   "source": [
    "$ Q11: $ Create a list of the first 10 positive integers. Remove the elements at indices 2, 4, and 6, and insert the element '99' at index 5. Print the modified list."
   ]
  },
  {
   "cell_type": "code",
   "execution_count": 24,
   "id": "97194567",
   "metadata": {},
   "outputs": [
    {
     "name": "stdout",
     "output_type": "stream",
     "text": [
      "[1, 2, 3, 4, 5, 6, 7, 8, 9, 10]\n",
      "[1, 2, 4, 6, 8, 99, 9, 10]\n"
     ]
    }
   ],
   "source": [
    "lt = [i for i in range(1,11)]\n",
    "print(lt)\n",
    "lt.pop(6); lt.pop(4); lt.pop(2)\n",
    "lt.insert(5,99)\n",
    "print(lt)"
   ]
  },
  {
   "cell_type": "markdown",
   "id": "d5fc336d",
   "metadata": {},
   "source": [
    "$ Q12: $ \n",
    "Create two lists of the same length. Use the `zip` function to combine these lists into a list of tuples and print the result."
   ]
  },
  {
   "cell_type": "code",
   "execution_count": 28,
   "id": "2f83a0d3",
   "metadata": {},
   "outputs": [
    {
     "name": "stdout",
     "output_type": "stream",
     "text": [
      "[(1, 'a'), (2, 'b'), (3, 'c'), (4, 'd'), (5, 'e'), (6, 'f'), (7, 'g'), (8, 'h'), (9, 'i')]\n"
     ]
    }
   ],
   "source": [
    "lt1 = list(range(1,10))\n",
    "lt2 = ['a', 'b', 'c', 'd', 'e', 'f', 'g', 'h', 'i']\n",
    "zipped_list = list(zip(lt1,lt2))\n",
    "print(zipped_list)"
   ]
  },
  {
   "cell_type": "markdown",
   "id": "7977b79c",
   "metadata": {},
   "source": [
    "$ Q13: $ Write a function that takes a list and returns a new list with the elements in reverse order. Print the original and reversed lists."
   ]
  },
  {
   "cell_type": "code",
   "execution_count": 34,
   "id": "bdd09c17",
   "metadata": {},
   "outputs": [
    {
     "name": "stdout",
     "output_type": "stream",
     "text": [
      "list:  [1, 2, 3, 4, 5, 6, 7, 8, 9]\n",
      "reversed list: [9, 8, 7, 6, 5, 4, 3, 2, 1]\n"
     ]
    }
   ],
   "source": [
    "def reverse_list(lt):\n",
    "    return lt[::-1]\n",
    "\n",
    "lt = list(range(1,10))\n",
    "print('list: ',lt)\n",
    "print('reversed list:',reverse_list(lt))"
   ]
  },
  {
   "cell_type": "markdown",
   "id": "ca1b7238",
   "metadata": {},
   "source": [
    "$ Q14: $ \n",
    "Write a function that rotates a list by k positions. Print the original and rotated lists."
   ]
  },
  {
   "cell_type": "code",
   "execution_count": 59,
   "id": "6dec638e",
   "metadata": {},
   "outputs": [
    {
     "name": "stdout",
     "output_type": "stream",
     "text": [
      "list: [1, 2, 3, 4]\n",
      "rotated list: [4, 1, 2, 3]\n"
     ]
    }
   ],
   "source": [
    "def rotate_n_positions(lt,k):\n",
    "    n = len(lt)\n",
    "    return lt[k:n] + lt[:k]\n",
    "\n",
    "# test function\n",
    "lt = list(range(1,5))\n",
    "k = 3\n",
    "print(\"list:\",lt)\n",
    "print(\"rotated list:\",rotate_n_positions(lt,k%len(lt)))"
   ]
  },
  {
   "cell_type": "markdown",
   "metadata": {},
   "source": [
    "\n",
    "\n",
    "\n",
    "$ Q15: $ \n",
    "Write a function that takes two lists and returns a new list containing only the elements that are present in both lists. Print the intersected list."
   ]
  },
  {
   "cell_type": "code",
   "execution_count": 77,
   "metadata": {},
   "outputs": [
    {
     "name": "stdout",
     "output_type": "stream",
     "text": [
      "[1, 2, 8, 15, 4]\n",
      "[1, 2, 8, 15, 4]\n"
     ]
    }
   ],
   "source": [
    "# method 1\n",
    "def list_intersection1(lt1, lt2):\n",
    "    return [lt1[i] for i in range(len(lt1)) for j in range(len(lt2)) if lt1[i]==lt2[j]]\n",
    "\n",
    "# method 2\n",
    "def list_intersection2(lt1, lt2):\n",
    "    return [x for x in lt1 if x in lt2]\n",
    "\n",
    "lt1 = [1, 2, 5, 8, 9, 15, 4]\n",
    "lt2 = [8, 6, 4, 2, 1, 25, 15]\n",
    "print(list_intersection1(lt1,lt2))\n",
    "print(list_intersection2(lt1,lt2))"
   ]
  },
  {
   "cell_type": "code",
   "execution_count": 87,
   "id": "178d8fe9",
   "metadata": {},
   "outputs": [
    {
     "name": "stdout",
     "output_type": "stream",
     "text": [
      "yes\n"
     ]
    }
   ],
   "source": [
    "\n",
    "nums = [21,10,26,85,65]\n",
    "if 10 in nums:\n",
    "    print(\"yes\")\n",
    "else:\n",
    "    print('no')    "
   ]
  },
  {
   "cell_type": "code",
   "execution_count": 88,
   "id": "10136217",
   "metadata": {},
   "outputs": [
    {
     "name": "stdout",
     "output_type": "stream",
     "text": [
      "207\n"
     ]
    }
   ],
   "source": [
    "sum_nums = sum(nums)\n",
    "print(sum_nums)"
   ]
  },
  {
   "cell_type": "code",
   "execution_count": 93,
   "id": "f493a9ce",
   "metadata": {},
   "outputs": [
    {
     "name": "stdout",
     "output_type": "stream",
     "text": [
      "maximum: 85\n",
      "minimum: 10\n"
     ]
    }
   ],
   "source": [
    "maxi = max(nums)\n",
    "mini = min(nums)\n",
    "print(f'maximum: {maxi}\\nminimum: {mini}')"
   ]
  },
  {
   "cell_type": "code",
   "execution_count": null,
   "id": "841c0d07",
   "metadata": {},
   "outputs": [],
   "source": []
  }
 ],
 "metadata": {
  "kernelspec": {
   "display_name": "Python 3",
   "language": "python",
   "name": "python3"
  },
  "language_info": {
   "codemirror_mode": {
    "name": "ipython",
    "version": 3
   },
   "file_extension": ".py",
   "mimetype": "text/x-python",
   "name": "python",
   "nbconvert_exporter": "python",
   "pygments_lexer": "ipython3",
   "version": "3.12.0"
  }
 },
 "nbformat": 4,
 "nbformat_minor": 5
}

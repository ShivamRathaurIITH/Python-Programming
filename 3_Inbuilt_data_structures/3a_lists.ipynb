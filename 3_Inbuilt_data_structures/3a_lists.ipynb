{
 "cells": [
  {
   "cell_type": "code",
   "execution_count": 35,
   "metadata": {},
   "outputs": [
    {
     "name": "stdout",
     "output_type": "stream",
     "text": [
      "['Shivam', 'iith', 20, True]\n"
     ]
    }
   ],
   "source": [
    "lst = ['Shivam', 'iith', 20, True]\n",
    "print(lst)"
   ]
  },
  {
   "cell_type": "code",
   "execution_count": 15,
   "metadata": {},
   "outputs": [
    {
     "name": "stdout",
     "output_type": "stream",
     "text": [
      "<class 'list'>\n"
     ]
    }
   ],
   "source": [
    "print(type(lst))"
   ]
  },
  {
   "cell_type": "code",
   "execution_count": 16,
   "metadata": {},
   "outputs": [
    {
     "name": "stdout",
     "output_type": "stream",
     "text": [
      "['iith', 20]\n",
      "['Shivam', 'iith', 20, True]\n",
      "[20, True]\n",
      "['Shivam', 'iith', 20]\n",
      "['Shivam', 20]\n"
     ]
    }
   ],
   "source": [
    "# slicing list\n",
    "print(lst[1:3])\n",
    "print(lst[:])\n",
    "print(lst[2:])\n",
    "print(lst[:3])\n",
    "print(lst[::2])"
   ]
  },
  {
   "cell_type": "code",
   "execution_count": 19,
   "metadata": {},
   "outputs": [
    {
     "name": "stdout",
     "output_type": "stream",
     "text": [
      "['R', 'a', 't', 'h', 'a', 'u', 'r']\n",
      "['Shivam', 'R', 'a', 't', 'h', 'a', 'u', 'r']\n",
      "8\n"
     ]
    }
   ],
   "source": [
    "print(lst[1:])\n",
    "lst[1:] = 'Rathaur'\n",
    "print(lst)\n",
    "print(len(lst))"
   ]
  },
  {
   "cell_type": "code",
   "execution_count": null,
   "metadata": {},
   "outputs": [],
   "source": [
    "## list methods\n",
    "# lst.append(item)\n",
    "# lst.insert(idx,item)\n",
    "# lst.remove(item) # remove the 1st occurance of the item\n",
    "# lst.pop() # remove and return the last the last element\n",
    "# lst.index(item) # idx of 1st occurance\n",
    "# lst.count(item)\n",
    "# lst.sort() # sort in ascending order\n",
    "# lst.reverse()\n",
    "# lst.clear() # remove all items"
   ]
  },
  {
   "cell_type": "code",
   "execution_count": 31,
   "metadata": {},
   "outputs": [
    {
     "name": "stdout",
     "output_type": "stream",
     "text": [
      "[12, 65, 18, 96, 17]\n"
     ]
    }
   ],
   "source": [
    "nums = [12, 65, 18, 96, 17]\n",
    "print(nums)"
   ]
  },
  {
   "cell_type": "code",
   "execution_count": 32,
   "metadata": {},
   "outputs": [
    {
     "name": "stdout",
     "output_type": "stream",
     "text": [
      "[12, 17, 18, 65, 96]\n"
     ]
    }
   ],
   "source": [
    "nums.sort()\n",
    "print(nums)"
   ]
  },
  {
   "cell_type": "code",
   "execution_count": 33,
   "metadata": {},
   "outputs": [
    {
     "name": "stdout",
     "output_type": "stream",
     "text": [
      "[96, 65, 18, 17, 12]\n"
     ]
    }
   ],
   "source": [
    "nums.reverse()\n",
    "print(nums)"
   ]
  },
  {
   "cell_type": "code",
   "execution_count": 37,
   "metadata": {},
   "outputs": [
    {
     "name": "stdout",
     "output_type": "stream",
     "text": [
      "96\n",
      "65\n",
      "18\n",
      "17\n",
      "12\n"
     ]
    }
   ],
   "source": [
    "# iterating over list\n",
    "for item in nums:\n",
    "    print(item)"
   ]
  },
  {
   "cell_type": "code",
   "execution_count": 2,
   "metadata": {},
   "outputs": [
    {
     "name": "stdout",
     "output_type": "stream",
     "text": [
      "0 30\n",
      "1 40\n",
      "2 50\n",
      "3 10\n",
      "4 20\n",
      "5 54\n"
     ]
    }
   ],
   "source": [
    "# iterating with index\n",
    "nums = [30,40,50,10,20,54]\n",
    "for idx,num in enumerate(nums):\n",
    "    print(idx,num)"
   ]
  },
  {
   "cell_type": "code",
   "execution_count": 4,
   "metadata": {},
   "outputs": [
    {
     "name": "stdout",
     "output_type": "stream",
     "text": [
      "[0, 1, 4, 9, 16, 25]\n",
      "[0, 4, 16]\n"
     ]
    }
   ],
   "source": [
    "# list comprehension: [exp for item in iterable if cond]\n",
    "lst1 = [i**2 for i in range(6)]\n",
    "print(lst1)\n",
    "lst2 = [i**2 for i in range(6) if i%2==0]\n",
    "print(lst2)"
   ]
  },
  {
   "cell_type": "code",
   "execution_count": 6,
   "metadata": {},
   "outputs": [
    {
     "name": "stdout",
     "output_type": "stream",
     "text": [
      "[0, 0, 0, 0, 1, 2, 3, 4, 2, 4, 6, 8]\n"
     ]
    }
   ],
   "source": [
    "# nested list comprehension: [exp for item1 in iterable1 for item2 in iterable2]\n",
    "lst = [i*j for i in range(3) for j in range(1,5)]\n",
    "print(lst)"
   ]
  },
  {
   "cell_type": "code",
   "execution_count": 7,
   "metadata": {},
   "outputs": [
    {
     "name": "stdout",
     "output_type": "stream",
     "text": [
      "[5, 5, 6, 6, 5]\n"
     ]
    }
   ],
   "source": [
    "# list comprehension with function calls\n",
    "fruits = ['apple', 'mango', 'papaya', 'tomato', 'guava']\n",
    "lst = [len(item) for item in fruits]\n",
    "print(lst)"
   ]
  },
  {
   "cell_type": "code",
   "execution_count": null,
   "metadata": {},
   "outputs": [],
   "source": []
  }
 ],
 "metadata": {
  "kernelspec": {
   "display_name": "Python 3",
   "language": "python",
   "name": "python3"
  },
  "language_info": {
   "codemirror_mode": {
    "name": "ipython",
    "version": 3
   },
   "file_extension": ".py",
   "mimetype": "text/x-python",
   "name": "python",
   "nbconvert_exporter": "python",
   "pygments_lexer": "ipython3",
   "version": "3.12.0"
  }
 },
 "nbformat": 4,
 "nbformat_minor": 2
}

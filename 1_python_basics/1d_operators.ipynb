{
 "cells": [
  {
   "cell_type": "code",
   "execution_count": null,
   "metadata": {},
   "outputs": [],
   "source": [
    "# arithmetic operators: +, -, *, /, //, %, **\n",
    "# / -> division\n",
    "# // -> floor division\n",
    "# % -> modulus\n",
    "# ** -> exponentiation "
   ]
  },
  {
   "cell_type": "code",
   "execution_count": null,
   "metadata": {},
   "outputs": [],
   "source": [
    "# comparision operators: ==, !=, >, >=, <, <=\n",
    "# logical operators: AND, OR, NOT\n"
   ]
  },
  {
   "cell_type": "code",
   "execution_count": 3,
   "metadata": {},
   "outputs": [
    {
     "name": "stdout",
     "output_type": "stream",
     "text": [
      "False\n",
      "True\n"
     ]
    }
   ],
   "source": [
    "x = True; y = False\n",
    "result = x and y\n",
    "print(result)\n",
    "result = x or y\n",
    "print(result)"
   ]
  },
  {
   "cell_type": "code",
   "execution_count": 9,
   "metadata": {},
   "outputs": [
    {
     "name": "stdout",
     "output_type": "stream",
     "text": [
      "True\n",
      "False\n"
     ]
    }
   ],
   "source": [
    "z = True\n",
    "print(z)\n",
    "result = not z # or not(z)\n",
    "print(result)"
   ]
  },
  {
   "cell_type": "code",
   "execution_count": 12,
   "metadata": {},
   "outputs": [
    {
     "name": "stdout",
     "output_type": "stream",
     "text": [
      "Sum: 16.0\n",
      "Difference: 8.0\n",
      "Product: 48.0\n",
      "Quotient: 3.0\n",
      "Integral Quotient: 3.0\n",
      "Remainder: 0.0\n",
      "Exponentiation: 20736.0\n"
     ]
    }
   ],
   "source": [
    "# simple calculator\n",
    "num1 = float(input(\"Enter 1st number: \"))\n",
    "num2 = float(input(\"Enter 2nd number: \"))\n",
    "\n",
    "sum = num1 + num2\n",
    "difference = num1 - num2\n",
    "product = num1 * num2\n",
    "quotient = num1 / num2\n",
    "integral_quotient = num1 // num2\n",
    "modulus = num1 % num2\n",
    "exponentiation = num1 ** num2\n",
    "\n",
    "print(\"Sum:\",sum)\n",
    "print(\"Difference:\", difference)\n",
    "print(\"Product:\", product)\n",
    "print(\"Quotient:\", quotient)\n",
    "print(\"Integral Quotient:\", integral_quotient)\n",
    "print(\"Remainder:\", modulus)\n",
    "print(\"Exponentiation:\",exponentiation)"
   ]
  }
 ],
 "metadata": {
  "kernelspec": {
   "display_name": "Python 3",
   "language": "python",
   "name": "python3"
  },
  "language_info": {
   "codemirror_mode": {
    "name": "ipython",
    "version": 3
   },
   "file_extension": ".py",
   "mimetype": "text/x-python",
   "name": "python",
   "nbconvert_exporter": "python",
   "pygments_lexer": "ipython3",
   "version": "3.12.0"
  }
 },
 "nbformat": 4,
 "nbformat_minor": 2
}

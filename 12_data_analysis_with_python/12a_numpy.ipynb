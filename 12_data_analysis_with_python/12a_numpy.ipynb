{
 "cells": [
  {
   "cell_type": "markdown",
   "metadata": {},
   "source": [
    "# NumPy"
   ]
  },
  {
   "cell_type": "code",
   "execution_count": 36,
   "metadata": {},
   "outputs": [],
   "source": [
    "import numpy as np"
   ]
  },
  {
   "cell_type": "code",
   "execution_count": 37,
   "metadata": {},
   "outputs": [
    {
     "name": "stdout",
     "output_type": "stream",
     "text": [
      "[1 2 3 4 5] <class 'numpy.ndarray'>\n",
      "(5,)\n"
     ]
    }
   ],
   "source": [
    "# create 1d array\n",
    "arr = np.array([1,2,3,4,5])\n",
    "print(arr, type(arr))\n",
    "print(arr.shape)"
   ]
  },
  {
   "cell_type": "code",
   "execution_count": 16,
   "metadata": {},
   "outputs": [
    {
     "name": "stdout",
     "output_type": "stream",
     "text": [
      "[[1 2 3 4 5]]\n",
      "(1, 5)\n"
     ]
    }
   ],
   "source": [
    "reshaped_arr = arr.reshape(1,5)\n",
    "print(reshaped_arr)\n",
    "print(reshaped_arr.shape)"
   ]
  },
  {
   "cell_type": "code",
   "execution_count": 17,
   "metadata": {},
   "outputs": [
    {
     "name": "stdout",
     "output_type": "stream",
     "text": [
      "[[1 2 3]\n",
      " [6 5 3]]\n",
      "(2, 3)\n"
     ]
    }
   ],
   "source": [
    "# create 2d array\n",
    "arr = np.array([[1,2,3],[6,5,3]])\n",
    "print(arr)\n",
    "print(arr.shape)"
   ]
  },
  {
   "cell_type": "code",
   "execution_count": 22,
   "metadata": {},
   "outputs": [
    {
     "name": "stdout",
     "output_type": "stream",
     "text": [
      "[ 0  2  4  6  8 10]\n",
      "(6,)\n",
      "[[ 0  2]\n",
      " [ 4  6]\n",
      " [ 8 10]]\n",
      "(3, 2)\n"
     ]
    }
   ],
   "source": [
    "# arange()\n",
    "arr = np.arange(0,11,2)\n",
    "print(arr)\n",
    "print(arr.shape)\n",
    "reshaped_arr = arr.reshape(3,2)\n",
    "print(reshaped_arr)\n",
    "print(reshaped_arr.shape)"
   ]
  },
  {
   "cell_type": "code",
   "execution_count": null,
   "metadata": {},
   "outputs": [
    {
     "name": "stdout",
     "output_type": "stream",
     "text": [
      "[ 0.   2.5  5.   7.5 10. ]\n"
     ]
    }
   ],
   "source": [
    "# linspace()\n",
    "arr = np.linspace(0,10,5) # return evenly spaced numbers over a specified interval.\n",
    "print(arr)\n",
    "print(arr.shape)"
   ]
  },
  {
   "cell_type": "code",
   "execution_count": 32,
   "metadata": {},
   "outputs": [
    {
     "name": "stdout",
     "output_type": "stream",
     "text": [
      "arr =\n",
      " [1. 1. 1. 1. 1.]\n",
      "arr =\n",
      " [1 1 1 1 1]\n",
      "arr =\n",
      " [[1. 1. 1.]\n",
      " [1. 1. 1.]]\n"
     ]
    }
   ],
   "source": [
    "# ones()\n",
    "arr = np.ones(5)\n",
    "print(\"arr =\\n\",arr)\n",
    "arr = np.ones(5,dtype=int)\n",
    "print(\"arr =\\n\",arr)\n",
    "arr = np.ones((2,3))\n",
    "print(\"arr =\\n\",arr)"
   ]
  },
  {
   "cell_type": "code",
   "execution_count": 33,
   "metadata": {},
   "outputs": [
    {
     "name": "stdout",
     "output_type": "stream",
     "text": [
      "arr =\n",
      " [0. 0. 0. 0. 0.]\n",
      "arr =\n",
      " [0 0 0 0 0]\n",
      "arr =\n",
      " [[0. 0. 0.]\n",
      " [0. 0. 0.]]\n"
     ]
    }
   ],
   "source": [
    "# zeros()\n",
    "arr = np.zeros(5)\n",
    "print(\"arr =\\n\",arr)\n",
    "arr = np.zeros(5,dtype=int)\n",
    "print(\"arr =\\n\",arr)\n",
    "arr = np.zeros((2,3))\n",
    "print(\"arr =\\n\",arr)"
   ]
  },
  {
   "cell_type": "code",
   "execution_count": 35,
   "metadata": {},
   "outputs": [
    {
     "name": "stdout",
     "output_type": "stream",
     "text": [
      "[[1. 0. 0.]\n",
      " [0. 1. 0.]\n",
      " [0. 0. 1.]]\n",
      "[[1 0 0]\n",
      " [0 1 0]\n",
      " [0 0 1]]\n"
     ]
    }
   ],
   "source": [
    "# identity matrix\n",
    "mat = np.eye(3)\n",
    "print(mat)\n",
    "mat = np.eye(3, dtype=int)\n",
    "print(mat)"
   ]
  },
  {
   "cell_type": "code",
   "execution_count": null,
   "metadata": {},
   "outputs": [],
   "source": [
    "# some imp. attributes of numpy array\n",
    "# arr.shape\n",
    "# arr.ndim\n",
    "# arr.size\n",
    "# arr.dtype\n",
    "# arr.itemsize"
   ]
  },
  {
   "cell_type": "code",
   "execution_count": null,
   "metadata": {},
   "outputs": [
    {
     "name": "stdout",
     "output_type": "stream",
     "text": [
      "[[1 2 3]\n",
      " [9 5 3]]\n",
      "(2, 3)\n",
      "2\n",
      "int64\n",
      "8\n"
     ]
    }
   ],
   "source": [
    "arr = np.array([[1,2,3],[9,5,3]])\n",
    "print(arr)\n",
    "print(arr.shape)\n",
    "print(arr.ndim)\n",
    "print(arr.dtype)\n",
    "print(arr.itemsize) # in bytes"
   ]
  },
  {
   "cell_type": "code",
   "execution_count": 42,
   "metadata": {},
   "outputs": [
    {
     "name": "stdout",
     "output_type": "stream",
     "text": [
      "[13 11 13 11  8]\n",
      "[ 7 -1  5  5 -2]\n",
      "[30 30 36 24 15]\n",
      "[3.33333333 0.83333333 2.25       2.66666667 0.6       ]\n"
     ]
    }
   ],
   "source": [
    "# numpy vectorized operation\n",
    "arr1 = np.array([10,5,9,8,3])\n",
    "arr2 = np.array([3,6,4,3,5])\n",
    "\n",
    "# element wise addition\n",
    "print(arr1+arr2)\n",
    "# element wise substraction\n",
    "print(arr1-arr2)\n",
    "# element wise multiplication\n",
    "print(arr1*arr2)\n",
    "# element wise division\n",
    "print(arr1/arr2)"
   ]
  },
  {
   "cell_type": "code",
   "execution_count": 43,
   "metadata": {},
   "outputs": [
    {
     "name": "stdout",
     "output_type": "stream",
     "text": [
      "[1.         1.41421356 1.73205081 2.         2.23606798]\n",
      "[  2.71828183   7.3890561   20.08553692  54.59815003 148.4131591 ]\n",
      "[ 0.84147098  0.90929743  0.14112001 -0.7568025  -0.95892427]\n",
      "[0.         0.69314718 1.09861229 1.38629436 1.60943791]\n"
     ]
    }
   ],
   "source": [
    "# universal functions\n",
    "arr = np.array([1,2,3,4,5])\n",
    "# sqrt func\n",
    "print(np.sqrt(arr))\n",
    "# exp func\n",
    "print(np.exp(arr))\n",
    "# sin func\n",
    "print(np.sin(arr))\n",
    "# natural log\n",
    "print(np.log(arr))"
   ]
  },
  {
   "cell_type": "code",
   "execution_count": 50,
   "metadata": {},
   "outputs": [
    {
     "name": "stdout",
     "output_type": "stream",
     "text": [
      "array =\n",
      " [[1 2 3]\n",
      " [4 5 6]\n",
      " [7 8 9]]\n",
      "5\n",
      "[[5 6]\n",
      " [8 9]]\n",
      "[[2 3]\n",
      " [5 6]]\n",
      "arr =\n",
      " [[0 2 3]\n",
      " [4 5 6]\n",
      " [7 8 9]]\n",
      "arr =\n",
      " [[0 2 3]\n",
      " [1 1 1]\n",
      " [1 1 1]]\n"
     ]
    }
   ],
   "source": [
    "## array slicing and indexing\n",
    "arr = np.array([[1,2,3],[4,5,6],[7,8,9]])\n",
    "print(\"array =\\n\",arr)\n",
    "\n",
    "# indexing\n",
    "print(arr[1][1]) # 5\n",
    "# slicing\n",
    "print(arr[1:,1:])\n",
    "print(arr[:2,1:])\n",
    "# modify\n",
    "arr[0][0] = 0\n",
    "print(\"arr =\\n\",arr)\n",
    "arr[1:] = 1\n",
    "print(\"arr =\\n\",arr)"
   ]
  },
  {
   "cell_type": "markdown",
   "metadata": {},
   "source": [
    "#### Practical Examples"
   ]
  },
  {
   "cell_type": "code",
   "execution_count": 54,
   "metadata": {},
   "outputs": [
    {
     "name": "stdout",
     "output_type": "stream",
     "text": [
      "normalised data: [-1.41421356 -0.70710678  0.          0.70710678  1.41421356]\n"
     ]
    }
   ],
   "source": [
    "# normalisation (a statistical concept): to have mean = 0 & standard deviation = 1\n",
    "data = np.array([1,2,3,4,5])\n",
    "# mean & standard deviation\n",
    "mn = np.mean(data)\n",
    "std_dev = np.std(data)\n",
    "# normalise the data\n",
    "norm_data = (data-mn)/std_dev\n",
    "print('normalised data:',norm_data)"
   ]
  },
  {
   "cell_type": "code",
   "execution_count": 56,
   "metadata": {},
   "outputs": [
    {
     "data": {
      "text/plain": [
       "[1, 2, 3, 4, 5, 6, 7, 8, 9, 10]"
      ]
     },
     "execution_count": 56,
     "metadata": {},
     "output_type": "execute_result"
    }
   ],
   "source": [
    "lt = list(range(1,11))\n",
    "lt"
   ]
  },
  {
   "cell_type": "code",
   "execution_count": null,
   "metadata": {},
   "outputs": [
    {
     "name": "stdout",
     "output_type": "stream",
     "text": [
      "data = [ 1  2  3  4  5  6  7  8  9 10]\n",
      "mean = 5.5\n",
      "median = 5.5\n",
      "standard deviation = 2.8722813232690143\n",
      "variance = 8.25\n"
     ]
    }
   ],
   "source": [
    "data = np.array(range(1,11))\n",
    "print('data =',data)\n",
    "# mean\n",
    "mn = np.mean(data)\n",
    "print('mean =',mn)\n",
    "# median\n",
    "med = np.median(data)\n",
    "print('median =',med)\n",
    "# standard deviation\n",
    "std_dev = np.std(data)\n",
    "print('standard deviation =',std_dev)\n",
    "# variance\n",
    "variance = np.var(data)\n",
    "print('variance =',variance)"
   ]
  },
  {
   "cell_type": "code",
   "execution_count": 71,
   "metadata": {},
   "outputs": [
    {
     "name": "stdout",
     "output_type": "stream",
     "text": [
      "data = [ 1  2  3  4  5  6  7  8  9 10]\n",
      "[False False False False False  True  True  True  True  True]\n",
      "[ 6  7  8  9 10]\n",
      "[3 4 5 6]\n"
     ]
    }
   ],
   "source": [
    "# logical operation\n",
    "data = np.array(range(1,11))\n",
    "print('data =',data)\n",
    "print(data>5) # [False False False False False  True  True  True  True  True]\n",
    "print(data[data>5])\n",
    "print(data[(data>=3) & (data<=6)])"
   ]
  }
 ],
 "metadata": {
  "kernelspec": {
   "display_name": "Python 3",
   "language": "python",
   "name": "python3"
  },
  "language_info": {
   "codemirror_mode": {
    "name": "ipython",
    "version": 3
   },
   "file_extension": ".py",
   "mimetype": "text/x-python",
   "name": "python",
   "nbconvert_exporter": "python",
   "pygments_lexer": "ipython3",
   "version": "3.12.0"
  }
 },
 "nbformat": 4,
 "nbformat_minor": 2
}

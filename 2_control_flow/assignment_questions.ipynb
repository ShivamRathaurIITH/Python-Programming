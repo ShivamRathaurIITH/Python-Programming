{
 "cells": [
  {
   "cell_type": "markdown",
   "id": "2a0c36bb",
   "metadata": {},
   "source": [
    "### Conditional Questions"
   ]
  },
  {
   "cell_type": "markdown",
   "id": "e7efd63a",
   "metadata": {},
   "source": [
    "$Q1:$\n",
    "Write a program that asks the user to input a number and prints whether the number is positive."
   ]
  },
  {
   "cell_type": "code",
   "execution_count": 5,
   "id": "85576f57",
   "metadata": {},
   "outputs": [
    {
     "name": "stdout",
     "output_type": "stream",
     "text": [
      "not a positive number\n"
     ]
    }
   ],
   "source": [
    "n = int(input(\"Enter a number: \"))\n",
    "if n>0:\n",
    "    print(\"positive number\")\n",
    "else:\n",
    "    print(\"not a positive number\")    "
   ]
  },
  {
   "cell_type": "markdown",
   "id": "9df6e32e",
   "metadata": {},
   "source": [
    "$Q2:$\n",
    "Write a program that asks the user to input a number and prints whether the number is positive or negative."
   ]
  },
  {
   "cell_type": "code",
   "execution_count": 7,
   "id": "3dcb1c9e",
   "metadata": {},
   "outputs": [
    {
     "name": "stdout",
     "output_type": "stream",
     "text": [
      "negative number\n"
     ]
    }
   ],
   "source": [
    "n = int(input(\"Enter a number: \"))\n",
    "if n>0:\n",
    "    print(\"positive number\")\n",
    "elif n<0:\n",
    "    print(\"negative number\")    \n",
    "else:\n",
    "    print(\"neither positive nor negative\")   "
   ]
  },
  {
   "cell_type": "markdown",
   "id": "88705a02",
   "metadata": {},
   "source": [
    "$Q4:$\n",
    "Write a program that asks the user to input a number and prints whether the number is positive, negative, or zero."
   ]
  },
  {
   "cell_type": "code",
   "execution_count": 9,
   "id": "cd2c2760",
   "metadata": {},
   "outputs": [
    {
     "name": "stdout",
     "output_type": "stream",
     "text": [
      "zero\n"
     ]
    }
   ],
   "source": [
    "n = int(input(\"Enter a number: \"))\n",
    "if n>0:\n",
    "    print(\"positive number\")\n",
    "elif n<0:\n",
    "    print(\"negative number\")    \n",
    "else:\n",
    "    print(\"zero\") "
   ]
  },
  {
   "cell_type": "markdown",
   "id": "0fd9a627",
   "metadata": {},
   "source": [
    "$Q5:$\n",
    "Write a program that asks the user to input a number and prints whether the number is positive and even, positive and odd, or negative."
   ]
  },
  {
   "cell_type": "code",
   "execution_count": 11,
   "id": "9cbd4a2b",
   "metadata": {},
   "outputs": [
    {
     "name": "stdout",
     "output_type": "stream",
     "text": [
      "negative\n"
     ]
    }
   ],
   "source": [
    "n = int(input(\"Enter a number: \"))\n",
    "if n>0:\n",
    "    print(\"positive\")\n",
    "    if n%2==0:\n",
    "        print(\"even\")\n",
    "    else:\n",
    "        print(\"odd\")    \n",
    "elif n==0:\n",
    "    print(\"zero\")        \n",
    "else:\n",
    "    print(\"negative\")\n"
   ]
  },
  {
   "cell_type": "markdown",
   "id": "901b4105",
   "metadata": {},
   "source": [
    "### Loop Questions"
   ]
  },
  {
   "cell_type": "markdown",
   "id": "b5d7e02e",
   "metadata": {},
   "source": [
    "$ Q1: $ Write a program that prints all the numbers from 1 to 10 using a for loop."
   ]
  },
  {
   "cell_type": "code",
   "execution_count": 12,
   "id": "b2c893ab",
   "metadata": {},
   "outputs": [
    {
     "name": "stdout",
     "output_type": "stream",
     "text": [
      "1 2 3 4 5 6 7 8 9 10 "
     ]
    }
   ],
   "source": [
    "for i in range(1,11):\n",
    "    print(i, end=' ')"
   ]
  },
  {
   "cell_type": "markdown",
   "id": "610b9f78",
   "metadata": {},
   "source": [
    "$Q2:$ Write a program that prints all the numbers from 1 to 10 using a while loop."
   ]
  },
  {
   "cell_type": "code",
   "execution_count": 13,
   "id": "25fbb365",
   "metadata": {},
   "outputs": [
    {
     "name": "stdout",
     "output_type": "stream",
     "text": [
      "1 2 3 4 5 6 7 8 9 10 "
     ]
    }
   ],
   "source": [
    "i = 1\n",
    "while i<=10:\n",
    "    print(i, end=' ')\n",
    "    i += 1"
   ]
  },
  {
   "cell_type": "markdown",
   "id": "a9574d39",
   "metadata": {},
   "source": [
    "$Q3:$\n",
    "Write a program that prints a 5x5 grid of asterisks (*) using nested loops."
   ]
  },
  {
   "cell_type": "code",
   "execution_count": 14,
   "id": "9de285be",
   "metadata": {},
   "outputs": [
    {
     "name": "stdout",
     "output_type": "stream",
     "text": [
      "* * * * * \n",
      "* * * * * \n",
      "* * * * * \n",
      "* * * * * \n",
      "* * * * * \n"
     ]
    }
   ],
   "source": [
    "for i in range(5):\n",
    "    for j in range(5):\n",
    "        print('*', end=' ')\n",
    "    print()    "
   ]
  },
  {
   "cell_type": "markdown",
   "id": "c26450b9",
   "metadata": {},
   "source": [
    "$ Q4: $ Write a program that asks the user to input numbers until they input 0. The program should print the sum of all the input numbers."
   ]
  },
  {
   "cell_type": "code",
   "execution_count": 16,
   "id": "085ec5b4",
   "metadata": {},
   "outputs": [
    {
     "name": "stdout",
     "output_type": "stream",
     "text": [
      "The sum is 150.0\n"
     ]
    }
   ],
   "source": [
    "sum = 0\n",
    "while True:\n",
    "    n = float(input(\"Enter a number (0 to end): \"))\n",
    "    if n==0:\n",
    "        break\n",
    "    sum += n\n",
    "print(\"The sum is\",sum)    "
   ]
  },
  {
   "cell_type": "markdown",
   "id": "625b1bbd",
   "metadata": {},
   "source": [
    "$ Q5: $ \n",
    "Write a program that prints all the numbers from 1 to 10 except 5 using a for loop and continue statement."
   ]
  },
  {
   "cell_type": "code",
   "execution_count": 18,
   "id": "e86e2af1",
   "metadata": {},
   "outputs": [
    {
     "name": "stdout",
     "output_type": "stream",
     "text": [
      "1 2 3 4 6 7 8 9 10 "
     ]
    }
   ],
   "source": [
    "for i in range(1,11):\n",
    "    if i==5:\n",
    "        continue\n",
    "    print(i, end=' ')"
   ]
  },
  {
   "cell_type": "markdown",
   "id": "d5717d18",
   "metadata": {},
   "source": [
    "$ Q6: $ Write a program that defines an empty function using the pass statement."
   ]
  },
  {
   "cell_type": "code",
   "execution_count": 20,
   "id": "aee1a9cd",
   "metadata": {},
   "outputs": [
    {
     "name": "stdout",
     "output_type": "stream",
     "text": [
      "10 is positive\n"
     ]
    }
   ],
   "source": [
    "def func(n):\n",
    "    if n<=0:\n",
    "        pass\n",
    "    else:\n",
    "        print(f'{n} is positive')\n",
    "\n",
    "func(10) \n",
    "func(-10)       "
   ]
  },
  {
   "cell_type": "markdown",
   "id": "3f294fd7",
   "metadata": {},
   "source": [
    "$ Q7: $ Write a program that asks the user to input a number and prints all the even numbers from 1 to that number using a for loop. "
   ]
  },
  {
   "cell_type": "code",
   "execution_count": 23,
   "id": "37eaf1be",
   "metadata": {},
   "outputs": [
    {
     "name": "stdout",
     "output_type": "stream",
     "text": [
      "1 2 3 4 5 "
     ]
    }
   ],
   "source": [
    "n = int(input(\"Enter a number: \"))\n",
    "for i in range(1,n+1):\n",
    "    print(i, end=' ')"
   ]
  },
  {
   "cell_type": "markdown",
   "id": "aa2a6e17",
   "metadata": {},
   "source": [
    "$ Q8: $ Write a program that calculates the factorial of a number input by the user using a while loop."
   ]
  },
  {
   "cell_type": "code",
   "execution_count": 24,
   "id": "a24fcdc5",
   "metadata": {},
   "outputs": [
    {
     "name": "stdout",
     "output_type": "stream",
     "text": [
      "120\n"
     ]
    }
   ],
   "source": [
    "n = int(input(\"Enter a number: \"))\n",
    "fact = 1; i = 1\n",
    "while i<=n:\n",
    "    fact *= i\n",
    "    i += 1\n",
    "print(fact)    "
   ]
  },
  {
   "cell_type": "markdown",
   "id": "07ae32f3",
   "metadata": {},
   "source": [
    "$ Q9: $ Write a program that calculates the sum of the digits of a number input by the user using a while loop. "
   ]
  },
  {
   "cell_type": "code",
   "execution_count": 25,
   "id": "345cd576",
   "metadata": {},
   "outputs": [
    {
     "name": "stdout",
     "output_type": "stream",
     "text": [
      "8\n"
     ]
    }
   ],
   "source": [
    "n = int(input(\"Enter a number: \"))\n",
    "sum = 0\n",
    "while n>0:\n",
    "    sum += n%10\n",
    "    n = n//10\n",
    "print(sum)    "
   ]
  },
  {
   "cell_type": "markdown",
   "id": "1a3b96a9",
   "metadata": {},
   "source": [
    "$ Q10: $ Write a program that checks if a number input by the user is a prime number using a for loop."
   ]
  },
  {
   "cell_type": "code",
   "execution_count": 32,
   "id": "70b43d5d",
   "metadata": {},
   "outputs": [
    {
     "name": "stdout",
     "output_type": "stream",
     "text": [
      "-25 is not prime\n"
     ]
    }
   ],
   "source": [
    "def is_prime(n):\n",
    "    if n<=1:\n",
    "        print(f'{n} is not prime')\n",
    "        return\n",
    "    status = True\n",
    "    for i in range(2,n):\n",
    "        if n%i == 0:\n",
    "            status = False\n",
    "            print(f'{n} is not prime')\n",
    "    if status == True:\n",
    "        print(f'{n} is prime')\n",
    "\n",
    "# test function\n",
    "n = int(input(\"Enter a number: \"))\n",
    "is_prime(n)\n",
    "    "
   ]
  },
  {
   "cell_type": "markdown",
   "id": "69150022",
   "metadata": {},
   "source": [
    "$ Q11: $ Write a program that prints the first n Fibonacci numbers, where n is input by the user."
   ]
  },
  {
   "cell_type": "code",
   "execution_count": 34,
   "id": "038fff82",
   "metadata": {},
   "outputs": [
    {
     "name": "stdout",
     "output_type": "stream",
     "text": [
      "11th fibonacci term: 55\n"
     ]
    }
   ],
   "source": [
    "# method 1 using recursion\n",
    "def fibonacci_recursion(n):\n",
    "    if n==1:\n",
    "        return 0\n",
    "    if n==2:\n",
    "        return 1\n",
    "    return fibonacci_recursion(n-1)+fibonacci_recursion(n-2)\n",
    "\n",
    "# test function\n",
    "n = int(input(\"Enter a number: \"))\n",
    "print(f\"{n}th fibonacci term: {fibonacci_recursion(n)}\")"
   ]
  },
  {
   "cell_type": "code",
   "execution_count": 36,
   "id": "825346ea",
   "metadata": {},
   "outputs": [
    {
     "name": "stdout",
     "output_type": "stream",
     "text": [
      "3\n"
     ]
    }
   ],
   "source": [
    "# method 2 using loop\n",
    "n = int(input(\"Enter a number: \"))\n",
    "if n==1:\n",
    "    print(0)\n",
    "if n==2:\n",
    "    print(1)    \n",
    "first_num = 0\n",
    "second_num = 1\n",
    "for i in range(3,n+1):\n",
    "    next_num = first_num+second_num\n",
    "    first_num = second_num\n",
    "    second_num = next_num\n",
    "print(next_num)    "
   ]
  }
 ],
 "metadata": {
  "kernelspec": {
   "display_name": "Python 3",
   "language": "python",
   "name": "python3"
  },
  "language_info": {
   "codemirror_mode": {
    "name": "ipython",
    "version": 3
   },
   "file_extension": ".py",
   "mimetype": "text/x-python",
   "name": "python",
   "nbconvert_exporter": "python",
   "pygments_lexer": "ipython3",
   "version": "3.12.0"
  }
 },
 "nbformat": 4,
 "nbformat_minor": 5
}
